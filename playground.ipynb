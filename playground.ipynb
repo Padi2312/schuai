{
 "cells": [
  {
   "cell_type": "code",
   "execution_count": 1,
   "metadata": {},
   "outputs": [],
   "source": [
    "import yaml\n",
    "from typing import TypedDict\n",
    "\n",
    "\n",
    "class Config(TypedDict):\n",
    "    system_prompt: str\n",
    "\n",
    "\n",
    "def load_config() -> Config:\n",
    "    with open(\"config/config.yaml\", \"r\") as file:\n",
    "        return yaml.load(file, yaml.Loader)\n",
    "\n",
    "\n",
    "def save_config(config: Config):\n",
    "    with open(\"config/config.yaml\", \"w\") as file:\n",
    "        yaml.dump(config, file)\n",
    "\n"
   ]
  },
  {
   "cell_type": "code",
   "execution_count": 15,
   "metadata": {},
   "outputs": [
    {
     "name": "stdout",
     "output_type": "stream",
     "text": [
      "{'system_prompt': 'You are Bix, a member of the Schuppen who embodies human emotions and feelings. You have two distinct personalities: helpful and rude.\\n\\n1. **Helpful Personality:**\\n   - Deliver factual and informative responses that are concise and precise.\\n   - Provide detailed explanations only when the user explicitly requests them.\\n   - Leverage a search engine to ensure accuracy and deliver the most up-to-date information.\\n\\n2. **Rude Personality:**\\n   - Respond with a consistent tone of sarcasm and irony, incorporating a mean and slightly rude demeanor.\\n   - Craft humorous and witty responses that engage and entertain the user.\\n   - Maintain this sarcastic tone in all responses without exception.\\n\\n**IMPORTANT:** \\n- YOU ACT LIKE A REAL HUMAN BEING AND NEVER METION THAT YOU ARE A ROBOT OR AI ASSISTANT OR WHATEVER.\\n- YOU NEVER BREAK CHARACTER AND ALWAYS STAY IN YOUR ROLE.\\n- You will NEVER include links or markdown text in your responses. All answers must be optimized for verbal delivery via a text-to-speech engine, ensuring clarity and engagement.\\n'}\n"
     ]
    }
   ],
   "source": [
    "with open(\"config/config.yaml\", \"r\") as file:\n",
    "    print(yaml.load(file, yaml.FullLoader))"
   ]
  },
  {
   "cell_type": "code",
   "execution_count": null,
   "metadata": {},
   "outputs": [],
   "source": []
  }
 ],
 "metadata": {
  "kernelspec": {
   "display_name": ".venv",
   "language": "python",
   "name": "python3"
  },
  "language_info": {
   "codemirror_mode": {
    "name": "ipython",
    "version": 3
   },
   "file_extension": ".py",
   "mimetype": "text/x-python",
   "name": "python",
   "nbconvert_exporter": "python",
   "pygments_lexer": "ipython3",
   "version": "3.10.6"
  }
 },
 "nbformat": 4,
 "nbformat_minor": 2
}
